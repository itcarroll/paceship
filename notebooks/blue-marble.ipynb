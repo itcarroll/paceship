{
 "cells": [
  {
   "cell_type": "markdown",
   "id": "489629fe-fe6e-4d67-9e6a-5a67aa509cce",
   "metadata": {},
   "source": [
    "## Setup"
   ]
  },
  {
   "cell_type": "code",
   "execution_count": null,
   "id": "c2d0dc24-c8c1-40a3-8cd8-b9dbb03bfbf6",
   "metadata": {},
   "outputs": [],
   "source": [
    "import earthaccess\n",
    "import paceship\n",
    "import xarray as xr\n",
    "from cartopy.crs import Orthographic, PlateCarree\n",
    "from matplotlib import pyplot"
   ]
  },
  {
   "cell_type": "markdown",
   "id": "34d8b2bb-c85f-4957-a7d7-661c7c162813",
   "metadata": {},
   "source": [
    "## Access Data"
   ]
  },
  {
   "cell_type": "code",
   "execution_count": null,
   "id": "0ed50ce5-0042-4990-a063-d5584a5ceae6",
   "metadata": {},
   "outputs": [],
   "source": [
    "tspan = (\"2024-08\", \"2024-08\")\n",
    "results = earthaccess.search_data(\n",
    "    short_name=\"PACE_OCI_L3M_SFREFL\",\n",
    "    granule_name=\"*.MO.*.0p1deg.*\",\n",
    "    temporal=tspan,\n",
    ")\n",
    "paths = earthaccess.download(results, \"granules\")"
   ]
  },
  {
   "cell_type": "code",
   "execution_count": null,
   "id": "0dc25eae-177f-41d4-9dba-1b085b896a34",
   "metadata": {},
   "outputs": [],
   "source": [
    "dataset = xr.open_dataset(paths[0])"
   ]
  },
  {
   "cell_type": "code",
   "execution_count": null,
   "id": "d09408cd-6768-45ca-8e28-d9ac370b8ec0",
   "metadata": {},
   "outputs": [],
   "source": [
    "dataset"
   ]
  },
  {
   "cell_type": "markdown",
   "id": "0f17758f-18af-403f-b986-4299bbc62c8c",
   "metadata": {},
   "source": [
    "## Generate Figure"
   ]
  },
  {
   "cell_type": "code",
   "execution_count": null,
   "id": "75ed7a3d-e021-4a86-b367-297b49f85483",
   "metadata": {},
   "outputs": [],
   "source": [
    "rgb = dataset[\"rhos\"].sel({\"wavelength\": [645, 555, 368]}, method=\"nearest\")"
   ]
  },
  {
   "cell_type": "code",
   "execution_count": null,
   "id": "0fc5f512-d8fe-41f8-af3f-8aa16287c091",
   "metadata": {},
   "outputs": [],
   "source": [
    "rgb = paceship.l3enhance(rgb)"
   ]
  },
  {
   "cell_type": "code",
   "execution_count": null,
   "id": "bcfb579f-7a46-4148-9035-4a3ee2b12f95",
   "metadata": {},
   "outputs": [],
   "source": [
    "plot = rgb.plot.imshow()"
   ]
  },
  {
   "cell_type": "markdown",
   "id": "ee8a6340-f107-4117-b875-f913ce1bc27e",
   "metadata": {},
   "source": [
    "## Save as PNG"
   ]
  },
  {
   "cell_type": "code",
   "execution_count": null,
   "id": "d7888615-2aca-4d80-9f06-362b19362559",
   "metadata": {},
   "outputs": [],
   "source": [
    "fig, ax = pyplot.subplots(figsize=(13, 4), subplot_kw={\"projection\": Orthographic(-30)})\n",
    "plot = rgb.plot.imshow(ax=ax, transform=PlateCarree())\n",
    "pyplot.show()"
   ]
  },
  {
   "cell_type": "code",
   "execution_count": null,
   "id": "044f8850-64b4-4e42-a2f5-15aa944d6ac5",
   "metadata": {},
   "outputs": [],
   "source": [
    "pyplot.savefig(f\"{tspan[0]}-blue-marble.png\")"
   ]
  }
 ],
 "metadata": {
  "kernelspec": {
   "display_name": "Python 3 (ipykernel)",
   "language": "python",
   "name": "python3"
  },
  "language_info": {
   "codemirror_mode": {
    "name": "ipython",
    "version": 3
   },
   "file_extension": ".py",
   "mimetype": "text/x-python",
   "name": "python",
   "nbconvert_exporter": "python",
   "pygments_lexer": "ipython3",
   "version": "3.12.10"
  }
 },
 "nbformat": 4,
 "nbformat_minor": 5
}
